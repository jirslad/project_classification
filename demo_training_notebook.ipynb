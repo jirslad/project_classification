{
  "nbformat": 4,
  "nbformat_minor": 0,
  "metadata": {
    "colab": {
      "provenance": [],
      "authorship_tag": "ABX9TyMJQO0LXuqR78vNbqtp/TQo",
      "include_colab_link": true
    },
    "kernelspec": {
      "name": "python3",
      "display_name": "Python 3"
    },
    "language_info": {
      "name": "python"
    }
  },
  "cells": [
    {
      "cell_type": "markdown",
      "metadata": {
        "id": "view-in-github",
        "colab_type": "text"
      },
      "source": [
        "<a href=\"https://colab.research.google.com/github/jirslad/project_classification/blob/main/demo_training_notebook.ipynb\" target=\"_parent\"><img src=\"https://colab.research.google.com/assets/colab-badge.svg\" alt=\"Open In Colab\"/></a>"
      ]
    },
    {
      "cell_type": "markdown",
      "source": [
        "## 0a. Setup git repo"
      ],
      "metadata": {
        "id": "QF_HzKEIbbVj"
      }
    },
    {
      "cell_type": "code",
      "execution_count": null,
      "metadata": {
        "id": "_i5jVO2BbWvT"
      },
      "outputs": [],
      "source": [
        "# USE_DRIVE = False: Fully use local memory. (long downloading time of a dataset)\n",
        "# USE_DRIVE = True: Use local memory, only use Drive to copy Food101 dataset archive to local memory.\n",
        "USE_DRIVE = True\n",
        "\n",
        "if USE_DRIVE:\n",
        "  from google.colab import drive\n",
        "  drive.mount('/content/gdrive/') # , force_remount=True"
      ]
    },
    {
      "cell_type": "code",
      "source": [
        "# clone repo to local memory\n",
        "%cd /content/\n",
        "!git clone https://github.com/jirslad/project_classification.git\n",
        "%cd /content/project_classification/\n",
        "!git pull"
      ],
      "metadata": {
        "id": "RWe3dtPCbdoC"
      },
      "execution_count": null,
      "outputs": []
    },
    {
      "cell_type": "markdown",
      "source": [
        "##0b. Install additional requirements"
      ],
      "metadata": {
        "id": "W0CtaaaTbiqz"
      }
    },
    {
      "cell_type": "code",
      "source": [
        "# the newest version of mlxtend might require Colab runtime restart\n",
        "try:\n",
        "  import torchinfo, torchmetrics, mlxtend\n",
        "except:\n",
        "  %pip install torchinfo torchmetrics mlxtend==0.21\n",
        "  import torchinfo, torchmetrics, mlxtend"
      ],
      "metadata": {
        "id": "t32Cf6fWbdlI"
      },
      "execution_count": null,
      "outputs": []
    },
    {
      "cell_type": "markdown",
      "source": [
        "# 1. Download and process dataset\n",
        "A) Food-101: Download the whole dataset do Drive once. Since then, copy if from Drive to local memory.\n",
        "\n",
        "B) Food-101 subset of 3 classes: Extract only several classes (pizza, steak, sushi). Script easily modifiable for arbitrary classes.\n",
        "\n",
        "C) DTD:\n",
        "Download dataset to Drive. Process it to create `class_names.txt` with ordered class names and `annotations.csv` with image paths and corresponding labels (as class indexes, e.g. `'3 18 42'`)."
      ],
      "metadata": {
        "id": "DoVtLk6dbrhl"
      }
    },
    {
      "cell_type": "code",
      "source": [
        "# # ONLY ONCE: Download Food101 dataset archive to Drive\n",
        "# %mkdir /content/gdrive/MyDrive/computer_vision/project_classification/datasets/\n",
        "# %cd /content/gdrive/MyDrive/computer_vision/project_classification/datasets/\n",
        "# import urllib.request\n",
        "# urllib.request.urlretrieve('https://data.vision.ee.ethz.ch/cvl/food-101.tar.gz', 'food-101.tar.gz')"
      ],
      "metadata": {
        "id": "iiSv9ED8bdiw"
      },
      "execution_count": null,
      "outputs": []
    },
    {
      "cell_type": "code",
      "source": [
        "# A) for Food101 dataset\n",
        "if USE_DRIVE:\n",
        "  %mkdir /content/project_classification/datasets/\n",
        "  %cp -av /content/gdrive/MyDrive/computer_vision/project_classification/datasets/food-101.tar.gz /content/project_classification/datasets/food-101.tar.gz\n",
        "  import tarfile\n",
        "  with tarfile.open(\"/content/project_classification/datasets/food-101.tar.gz\", \"r\") as f:\n",
        "    f.extractall(\"/content/project_classification/datasets/\")\n",
        "\n",
        "  # B) for whole pizza_steak_sushi subset (1000 imgs per class)\n",
        "  !python prepare_dataset.py --datasets-dir datasets --dataset FoodSubset\n",
        "\n",
        "  # for pizza_steak_sushi custom downloaded images\n",
        "  %mkdir -p /content/project_classification/datasets/pizza_steak_sushi\n",
        "  %cp -r /content/gdrive/MyDrive/computer_vision/project_classification/datasets/pizza_steak_sushi/custom /content/project_classification/datasets/pizza_steak_sushi\n",
        "  \n",
        "# C) for DTD dataset\n",
        "else:\n",
        "  !python prepare_dataset.py --datasets-dir datasets --dataset DTD"
      ],
      "metadata": {
        "id": "WmdPfVMWbdgb"
      },
      "execution_count": null,
      "outputs": []
    },
    {
      "cell_type": "markdown",
      "source": [
        "# 2. Train a model"
      ],
      "metadata": {
        "id": "bU3fpMjnb0zS"
      }
    },
    {
      "cell_type": "code",
      "source": [
        "%run train.py --data-path datasets/pizza_steak_sushi --model efficientnetB0 \\\n",
        "              --epochs 10 --lr 5e-4 --batch 32 --split-ratio 1 1 \\\n",
        "              --track --plot"
      ],
      "metadata": {
        "id": "1Ceaanpsbdem"
      },
      "execution_count": null,
      "outputs": []
    },
    {
      "cell_type": "code",
      "source": [
        "# Show experiments in TensorBoard\n",
        "%reload_ext tensorboard\n",
        "%tensorboard --logdir runs"
      ],
      "metadata": {
        "id": "KWb4Vdv3bdb9"
      },
      "execution_count": null,
      "outputs": []
    },
    {
      "cell_type": "code",
      "source": [
        "# download \"runs\" folder with experiment results\n",
        "from google.colab import files\n",
        "!zip -r /content/runs.zip /content/project_classification/runs\n",
        "files.download(\"/content/runs.zip\")"
      ],
      "metadata": {
        "id": "BazHu6y7bdZu"
      },
      "execution_count": null,
      "outputs": []
    },
    {
      "cell_type": "code",
      "source": [
        "# download trained models to Drive\n",
        "# %cp -av /content/project_classification/models /content/gdrive/MyDrive/computer_vision/project_classification\n",
        "\n",
        "# copy a trained model to local memory\n",
        "# %mkdir /content/project_classification/models\n",
        "# %cp -av /content/gdrive/MyDrive/computer_vision/project_classification/models/vitB16_100perc-data_4ep_0.000015lr.pt /content/project_classification/models/"
      ],
      "metadata": {
        "id": "CJn4MGITbdXa"
      },
      "execution_count": null,
      "outputs": []
    },
    {
      "cell_type": "markdown",
      "source": [
        "## 3. Run inference"
      ],
      "metadata": {
        "id": "GUEpmWV0dG9q"
      }
    },
    {
      "cell_type": "code",
      "source": [
        "%run inference.py --imgs-path datasets/pizza_steak_sushi/custom --model-path models/vitB16_100perc-data_4ep_0.000015lr.pt \\\n",
        "                  --rows 5 --columns 9 --output-classes 3"
      ],
      "metadata": {
        "id": "JJgLXy7rdJHK"
      },
      "execution_count": null,
      "outputs": []
    }
  ]
}